{
 "cells": [
  {
   "cell_type": "code",
   "execution_count": 11,
   "metadata": {},
   "outputs": [],
   "source": [
    "import numpy as np\n",
    "import math\n",
    "import random\n",
    "from numpy import linalg"
   ]
  },
  {
   "cell_type": "code",
   "execution_count": 2,
   "metadata": {},
   "outputs": [],
   "source": [
    "# Normalizes a value x\n",
    "def normalize(x):\n",
    "    fac = abs(x).max()\n",
    "    x_n = x / x.max()\n",
    "    return fac, x_n"
   ]
  },
  {
   "cell_type": "code",
   "execution_count": 13,
   "metadata": {},
   "outputs": [
    {
     "name": "stdout",
     "output_type": "stream",
     "text": [
      "Eigenvalue: 436.66259752379085\n",
      "Eigenvector: [[ 0.25272106]\n",
      " [-0.32325462]\n",
      " [ 0.02723882]\n",
      " [-0.0493134 ]\n",
      " [-0.38824043]\n",
      " [ 0.42017587]\n",
      " [ 0.16246762]\n",
      " [-0.59626948]\n",
      " [-0.90836743]\n",
      " [-0.32028814]\n",
      " [-0.18692358]\n",
      " [-0.26609813]\n",
      " [-0.01384332]\n",
      " [-0.50040966]\n",
      " [-0.12478698]\n",
      " [ 0.05388906]\n",
      " [-0.20872058]\n",
      " [ 0.16577909]\n",
      " [ 0.73379696]\n",
      " [-0.17363142]\n",
      " [ 0.02289959]\n",
      " [-0.0492089 ]\n",
      " [-0.17549914]\n",
      " [ 0.18441533]\n",
      " [ 0.29313746]\n",
      " [ 0.14719681]\n",
      " [ 0.09045434]\n",
      " [ 0.22315364]\n",
      " [-0.40271821]\n",
      " [-0.57100724]\n",
      " [ 0.51333697]\n",
      " [ 0.18647869]\n",
      " [ 0.14917679]\n",
      " [-0.16897703]\n",
      " [ 0.21598583]\n",
      " [ 0.42547034]\n",
      " [ 0.15568628]\n",
      " [ 0.07966231]\n",
      " [-0.2092378 ]\n",
      " [-0.33591751]\n",
      " [-0.17086508]\n",
      " [ 0.57460569]\n",
      " [-0.07779409]\n",
      " [-0.01413327]\n",
      " [ 0.10098601]\n",
      " [-0.62197961]\n",
      " [-0.19625631]\n",
      " [ 1.        ]\n",
      " [-0.31398862]\n",
      " [ 0.53971094]]\n"
     ]
    }
   ],
   "source": [
    "#Creates 2 arrays of zeros with the correct dimensions\n",
    "x = np.zeros(shape =(50,1))\n",
    "a = np.zeros(shape=(50,50))\n",
    "\n",
    "# Initializes the array 'a' with random integers from -100 to 100\n",
    "for row in range(50):\n",
    "    for col in range(50):\n",
    "        a[row][col] = random.randint(-100, 100)\n",
    "\n",
    "# Initializes the array x with ones\n",
    "for row in range(50):\n",
    "    x[row][0] = 1\n",
    "\n",
    "# Finds the largest magnitude eigenvalue and the corresponding eigenvector\n",
    "for i in range(8):\n",
    "    x = np.dot(a, x)\n",
    "    lambda_1, x = normalize(x)\n",
    "\n",
    "print('Eigenvalue:', lambda_1)\n",
    "print('Eigenvector:', x)"
   ]
  }
 ],
 "metadata": {
  "kernelspec": {
   "display_name": "Python 3.9.12 ('base')",
   "language": "python",
   "name": "python3"
  },
  "language_info": {
   "codemirror_mode": {
    "name": "ipython",
    "version": 3
   },
   "file_extension": ".py",
   "mimetype": "text/x-python",
   "name": "python",
   "nbconvert_exporter": "python",
   "pygments_lexer": "ipython3",
   "version": "3.9.12"
  },
  "orig_nbformat": 4,
  "vscode": {
   "interpreter": {
    "hash": "4ef74da900cb59011491b7b294739a4b984b3db23ed598d5726c59cb2b4b9952"
   }
  }
 },
 "nbformat": 4,
 "nbformat_minor": 2
}
