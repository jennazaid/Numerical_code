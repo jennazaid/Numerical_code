{
 "cells": [
  {
   "cell_type": "code",
   "execution_count": 17,
   "metadata": {},
   "outputs": [
    {
     "name": "stdout",
     "output_type": "stream",
     "text": [
      "Unrounded matrices L and U:\n",
      "[[ 1.          0.          0.          0.          0.        ]\n",
      " [ 1.07142857  1.          0.          0.          0.        ]\n",
      " [-0.64285714 -0.16216216  1.          0.          0.        ]\n",
      " [ 0.21428571 -0.02702703 -0.10959805  1.          0.        ]\n",
      " [-0.35714286 -0.72972973  0.3024801   1.09154167  1.        ]]\n",
      "[[ 14.          14.          -9.           3.          -5.        ]\n",
      " [  0.          37.          -5.35714286  -1.21428571 -26.64285714]\n",
      " [  0.           0.          29.34555985  -3.26833977   8.46525097]\n",
      " [  0.           0.           0.          45.96612065  50.27912637]\n",
      " [  0.           0.           0.           0.           0.32986943]]\n",
      "\n",
      "Solution x:\n",
      "[[2.98174184e-14]\n",
      " [1.00000000e+00]\n",
      " [2.00000000e+00]\n",
      " [3.00000000e+00]\n",
      " [4.00000000e+00]]\n",
      "\n",
      "Rounded matrices L and U:\n",
      "[[ 1.  0.  0.  0.  0.]\n",
      " [ 1.  1.  0.  0.  0.]\n",
      " [-1. -1.  1.  0.  0.]\n",
      " [ 0. -1. -1.  1.  0.]\n",
      " [-1. -1.  0.  1.  1.]]\n",
      "[[ 14.  14.  -9.   3.  -5.]\n",
      " [  0.  37.  -6.  -2. -27.]\n",
      " [  0.   0.  29.  -4.   8.]\n",
      " [  0.   0.   0.  45.  50.]\n",
      " [  0.   0.   0.   0.   0.]]\n",
      "\n"
     ]
    }
   ],
   "source": [
    "import math\n",
    "import numpy as np\n",
    "from numpy.linalg import solve\n",
    "\n",
    "lower = np.zeros(shape=(5, 5))\n",
    "upper = np.zeros(shape=(5, 5))\n",
    "matrix = np.array([[14, 14, -9, 3, -5], [15, 52, -15, 2, -32], [-9, -15, 36, -5, 16], [3, 2, -5, 47, 49], [-5, -32, 16, 49, 79]])\n",
    "b = np.array([[-15], [-100], [106], [329], [463]])\n",
    "\n",
    "# Performs LU decomposition\n",
    "for i in range(5):\n",
    "    # U matrix\n",
    "    for k in range(i, 5):\n",
    "        sum = 0\n",
    "        for j in range(0, i):\n",
    "            sum += lower[i][j]*upper[j][k]\n",
    "        upper[i][k] = matrix[i][k] - sum\n",
    "\n",
    "    # L matrix\n",
    "    for k in range(i, 5):\n",
    "        if i == k:\n",
    "            lower[i][i] = 1\n",
    "        else:\n",
    "            sum = 0\n",
    "            for j in range(i):\n",
    "                sum += lower[k][j]*upper[j][i]\n",
    "            lower[k][i] = (matrix[k][i] - sum) / upper[i][i]\n",
    "\n",
    "# Visualize A, L, and U\n",
    "print(\"Unrounded matrices L and U:\")\n",
    "print(lower)\n",
    "print(upper)\n",
    "print()\n",
    "\n",
    "# Solve for x: Ly = b, Ux = y\n",
    "y = solve(lower, b)\n",
    "x = solve(upper, y)\n",
    "\n",
    "\n",
    "print(\"Solution x:\")\n",
    "print(x)\n",
    "print()\n",
    "\n",
    "for row in range(5):\n",
    "    for col in range(5):\n",
    "        matrix[row][col] = math.floor(matrix[row][col])\n",
    "        upper[row][col] = math.floor(upper[row][col])\n",
    "        lower[row][col] = math.floor(lower[row][col])\n",
    "\n",
    "print(\"Rounded matrices L and U:\")\n",
    "print(lower)\n",
    "print(upper)\n",
    "print()\n"
   ]
  }
 ],
 "metadata": {
  "kernelspec": {
   "display_name": "Python 3.9.12 ('base')",
   "language": "python",
   "name": "python3"
  },
  "language_info": {
   "codemirror_mode": {
    "name": "ipython",
    "version": 3
   },
   "file_extension": ".py",
   "mimetype": "text/x-python",
   "name": "python",
   "nbconvert_exporter": "python",
   "pygments_lexer": "ipython3",
   "version": "3.9.12"
  },
  "orig_nbformat": 4,
  "vscode": {
   "interpreter": {
    "hash": "4ef74da900cb59011491b7b294739a4b984b3db23ed598d5726c59cb2b4b9952"
   }
  }
 },
 "nbformat": 4,
 "nbformat_minor": 2
}
